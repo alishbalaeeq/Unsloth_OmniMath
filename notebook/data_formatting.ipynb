{
 "cells": [
  {
   "cell_type": "code",
   "execution_count": 1,
   "metadata": {},
   "outputs": [],
   "source": [
    "from datasets import load_dataset\n",
    "dataset = load_dataset(\"KbsdJames/Omni-MATH\")"
   ]
  },
  {
   "cell_type": "code",
   "execution_count": 2,
   "metadata": {},
   "outputs": [
    {
     "name": "stdout",
     "output_type": "stream",
     "text": [
      "Dataset Features:\n",
      "- domain\n",
      "- difficulty\n",
      "- problem\n",
      "- solution\n",
      "- answer\n",
      "- source\n",
      "Detailed Feature Information:\n",
      "{'domain': Sequence(feature=Value(dtype='string', id=None), length=-1, id=None), 'difficulty': Value(dtype='float64', id=None), 'problem': Value(dtype='string', id=None), 'solution': Value(dtype='string', id=None), 'answer': Value(dtype='string', id=None), 'source': Value(dtype='string', id=None)}\n"
     ]
    }
   ],
   "source": [
    "# Print dataset features\n",
    "print(\"Dataset Features:\")\n",
    "for feature in dataset['test'].features:\n",
    "    print(f\"- {feature}\")\n",
    "\n",
    "# Or for more detailed information\n",
    "print(\"Detailed Feature Information:\")\n",
    "print(dataset['test'].features)"
   ]
  },
  {
   "cell_type": "code",
   "execution_count": 6,
   "metadata": {},
   "outputs": [],
   "source": [
    "import json\n",
    "\n",
    "# Convert to Phi-style chat format\n",
    "phi_chat_format = []\n",
    "for item in dataset[\"test\"]:\n",
    "    phi_chat_format.append({\n",
    "        \"conversations\": [\n",
    "            {\n",
    "                \"content\": item[\"problem\"],\n",
    "                \"role\": \"user\",\n",
    "            },\n",
    "            {\n",
    "                \"content\": item[\"solution\"],\n",
    "                \"role\": \"assistant\",\n",
    "            }\n",
    "        ]\n",
    "    })\n",
    "\n",
    "# Save to JSON file\n",
    "with open(\"omni_math_phi.json\", \"w\") as f:\n",
    "    json.dump(phi_chat_format, f, indent=2)"
   ]
  }
 ],
 "metadata": {
  "kernelspec": {
   "display_name": "llamacpp",
   "language": "python",
   "name": "python3"
  },
  "language_info": {
   "codemirror_mode": {
    "name": "ipython",
    "version": 3
   },
   "file_extension": ".py",
   "mimetype": "text/x-python",
   "name": "python",
   "nbconvert_exporter": "python",
   "pygments_lexer": "ipython3",
   "version": "3.12.9"
  }
 },
 "nbformat": 4,
 "nbformat_minor": 2
}
